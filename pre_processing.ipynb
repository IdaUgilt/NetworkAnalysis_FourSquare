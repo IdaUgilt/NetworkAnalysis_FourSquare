{
 "cells": [
  {
   "cell_type": "markdown",
   "metadata": {},
   "source": [
    "# Data Pre-Processing"
   ]
  },
  {
   "cell_type": "code",
   "execution_count": 52,
   "metadata": {},
   "outputs": [],
   "source": [
    "# Imports\n",
    "\n",
    "import pandas as pd\n",
    "import numpy as np\n",
    "import networkx as nx\n",
    "from sklearn.metrics import pairwise_distances\n",
    "\n",
    "import warnings\n",
    "warnings.filterwarnings('ignore')"
   ]
  },
  {
   "cell_type": "markdown",
   "metadata": {},
   "source": [
    "### Step 1. Make sure source and target have no shared ID's:"
   ]
  },
  {
   "cell_type": "code",
   "execution_count": 53,
   "metadata": {},
   "outputs": [
    {
     "data": {
      "text/html": [
       "<div>\n",
       "<style scoped>\n",
       "    .dataframe tbody tr th:only-of-type {\n",
       "        vertical-align: middle;\n",
       "    }\n",
       "\n",
       "    .dataframe tbody tr th {\n",
       "        vertical-align: top;\n",
       "    }\n",
       "\n",
       "    .dataframe thead th {\n",
       "        text-align: right;\n",
       "    }\n",
       "</style>\n",
       "<table border=\"1\" class=\"dataframe\">\n",
       "  <thead>\n",
       "    <tr style=\"text-align: right;\">\n",
       "      <th></th>\n",
       "      <th>Source</th>\n",
       "      <th>Target</th>\n",
       "      <th>Rating</th>\n",
       "      <th>Timestamp</th>\n",
       "    </tr>\n",
       "  </thead>\n",
       "  <tbody>\n",
       "    <tr>\n",
       "      <th>0</th>\n",
       "      <td>a1</td>\n",
       "      <td>b1</td>\n",
       "      <td>4</td>\n",
       "      <td>1230332400</td>\n",
       "    </tr>\n",
       "    <tr>\n",
       "      <th>1</th>\n",
       "      <td>a2</td>\n",
       "      <td>b1</td>\n",
       "      <td>5</td>\n",
       "      <td>1230073200</td>\n",
       "    </tr>\n",
       "    <tr>\n",
       "      <th>2</th>\n",
       "      <td>a3</td>\n",
       "      <td>b1</td>\n",
       "      <td>5</td>\n",
       "      <td>1229122800</td>\n",
       "    </tr>\n",
       "    <tr>\n",
       "      <th>3</th>\n",
       "      <td>a4</td>\n",
       "      <td>b1</td>\n",
       "      <td>5</td>\n",
       "      <td>1228777200</td>\n",
       "    </tr>\n",
       "    <tr>\n",
       "      <th>4</th>\n",
       "      <td>a5</td>\n",
       "      <td>b1</td>\n",
       "      <td>4</td>\n",
       "      <td>1228345200</td>\n",
       "    </tr>\n",
       "    <tr>\n",
       "      <th>5</th>\n",
       "      <td>a6</td>\n",
       "      <td>b1</td>\n",
       "      <td>5</td>\n",
       "      <td>1228345200</td>\n",
       "    </tr>\n",
       "    <tr>\n",
       "      <th>6</th>\n",
       "      <td>a7</td>\n",
       "      <td>b1</td>\n",
       "      <td>5</td>\n",
       "      <td>1228345200</td>\n",
       "    </tr>\n",
       "    <tr>\n",
       "      <th>7</th>\n",
       "      <td>a8</td>\n",
       "      <td>b1</td>\n",
       "      <td>4</td>\n",
       "      <td>1228172400</td>\n",
       "    </tr>\n",
       "    <tr>\n",
       "      <th>8</th>\n",
       "      <td>a9</td>\n",
       "      <td>b1</td>\n",
       "      <td>4</td>\n",
       "      <td>1228172400</td>\n",
       "    </tr>\n",
       "    <tr>\n",
       "      <th>9</th>\n",
       "      <td>a10</td>\n",
       "      <td>b1</td>\n",
       "      <td>4</td>\n",
       "      <td>1227135600</td>\n",
       "    </tr>\n",
       "  </tbody>\n",
       "</table>\n",
       "</div>"
      ],
      "text/plain": [
       "  Source Target  Rating   Timestamp\n",
       "0     a1     b1       4  1230332400\n",
       "1     a2     b1       5  1230073200\n",
       "2     a3     b1       5  1229122800\n",
       "3     a4     b1       5  1228777200\n",
       "4     a5     b1       4  1228345200\n",
       "5     a6     b1       5  1228345200\n",
       "6     a7     b1       5  1228345200\n",
       "7     a8     b1       4  1228172400\n",
       "8     a9     b1       4  1228172400\n",
       "9    a10     b1       4  1227135600"
      ]
     },
     "execution_count": 53,
     "metadata": {},
     "output_type": "execute_result"
    }
   ],
   "source": [
    "# Read the CSV file into a DataFrame\n",
    "df = pd.read_csv('wang-tripadvisor/raw.csv', delimiter = \";\")\n",
    "\n",
    "# Update the 'Source' and 'Target' columns by adding 'A' and 'B' to the beginning of each value\n",
    "df['Source'] = 'a' + df['Source'].astype(str)\n",
    "df['Target'] = 'b' + df['Target'].astype(str)\n",
    "\n",
    "# Rename source column to include #\n",
    "df.rename(columns = {'Source': '#Source'})\n",
    "\n",
    "df.head(10)"
   ]
  },
  {
   "cell_type": "markdown",
   "metadata": {},
   "source": [
    "### Step 2. Handle parallel edges:"
   ]
  },
  {
   "cell_type": "markdown",
   "metadata": {},
   "source": [
    "We can now load the data into a graph:"
   ]
  },
  {
   "cell_type": "code",
   "execution_count": 54,
   "metadata": {},
   "outputs": [
    {
     "name": "stdout",
     "output_type": "stream",
     "text": [
      "Graph without parallel edges: Graph with 147075 nodes and 175655 edges\n",
      "Graph with parallel edges: MultiGraph with 147075 nodes and 175765 edges\n",
      "Difference in amount of edges: 110\n"
     ]
    }
   ],
   "source": [
    "# We create two versions of the graph to check the amount of parallel edges\n",
    "\n",
    "# No parallel edges\n",
    "B = nx.Graph()\n",
    "\n",
    "# Parallel edges\n",
    "B_multi = nx.MultiGraph()\n",
    "\n",
    "edges = [(row['Source'], row['Target'], {'Rating': row['Rating'], 'Timestamp': row['Timestamp']}) for _, row in df.iterrows()]\n",
    "B.add_edges_from(edges)\n",
    "B_multi.add_edges_from(edges)\n",
    "\n",
    "print('Graph without parallel edges:', B)\n",
    "print('Graph with parallel edges:', B_multi)\n",
    "print('Difference in amount of edges:', B_multi.number_of_edges() - B.number_of_edges())"
   ]
  },
  {
   "cell_type": "markdown",
   "metadata": {},
   "source": [
    "It seems we have 110 parallel edges.\n",
    "\n",
    "We need to remove these. However, it would be careless to simply choose one at random since edges carry weights corresponding to the rating the user gave the hotel. It makes sense to take the newest edge using the timestamp attribute, since this represents the users most recent visit to the hotel.\n",
    "\n",
    "We will once again return to the pandas dataframe to solve this issue."
   ]
  },
  {
   "cell_type": "code",
   "execution_count": 55,
   "metadata": {},
   "outputs": [
    {
     "data": {
      "text/plain": [
       "True"
      ]
     },
     "execution_count": 55,
     "metadata": {},
     "output_type": "execute_result"
    }
   ],
   "source": [
    "# Sort DataFrame by 'Timestamp' descending\n",
    "df.sort_values(by = 'Timestamp', ascending = False, inplace = True)\n",
    "\n",
    "# Drop duplicates, keeping only the first occurrence (which by sorting is the newest)\n",
    "df.drop_duplicates(subset = ['Source', 'Target'], keep = 'first', inplace = True)\n",
    "\n",
    "# Reset the index of the modified DataFrame\n",
    "df.reset_index(drop = True, inplace = True)\n",
    "\n",
    "# Check that amount of DataFrame rows is equal to amount of edges in G\n",
    "B.number_of_edges() == df.shape[0]"
   ]
  },
  {
   "cell_type": "code",
   "execution_count": 56,
   "metadata": {},
   "outputs": [
    {
     "data": {
      "text/html": [
       "<div>\n",
       "<style scoped>\n",
       "    .dataframe tbody tr th:only-of-type {\n",
       "        vertical-align: middle;\n",
       "    }\n",
       "\n",
       "    .dataframe tbody tr th {\n",
       "        vertical-align: top;\n",
       "    }\n",
       "\n",
       "    .dataframe thead th {\n",
       "        text-align: right;\n",
       "    }\n",
       "</style>\n",
       "<table border=\"1\" class=\"dataframe\">\n",
       "  <thead>\n",
       "    <tr style=\"text-align: right;\">\n",
       "      <th></th>\n",
       "      <th>#Source</th>\n",
       "      <th>Target</th>\n",
       "      <th>Rating</th>\n",
       "      <th>Timestamp</th>\n",
       "    </tr>\n",
       "  </thead>\n",
       "  <tbody>\n",
       "    <tr>\n",
       "      <th>0</th>\n",
       "      <td>a107950</td>\n",
       "      <td>b1202</td>\n",
       "      <td>4</td>\n",
       "      <td>1231714800</td>\n",
       "    </tr>\n",
       "    <tr>\n",
       "      <th>1</th>\n",
       "      <td>a11220</td>\n",
       "      <td>b114</td>\n",
       "      <td>4</td>\n",
       "      <td>1231714800</td>\n",
       "    </tr>\n",
       "    <tr>\n",
       "      <th>2</th>\n",
       "      <td>a107159</td>\n",
       "      <td>b1192</td>\n",
       "      <td>4</td>\n",
       "      <td>1231628400</td>\n",
       "    </tr>\n",
       "    <tr>\n",
       "      <th>3</th>\n",
       "      <td>a42532</td>\n",
       "      <td>b398</td>\n",
       "      <td>1</td>\n",
       "      <td>1231628400</td>\n",
       "    </tr>\n",
       "    <tr>\n",
       "      <th>4</th>\n",
       "      <td>a58447</td>\n",
       "      <td>b603</td>\n",
       "      <td>1</td>\n",
       "      <td>1231628400</td>\n",
       "    </tr>\n",
       "  </tbody>\n",
       "</table>\n",
       "</div>"
      ],
      "text/plain": [
       "   #Source Target  Rating   Timestamp\n",
       "0  a107950  b1202       4  1231714800\n",
       "1   a11220   b114       4  1231714800\n",
       "2  a107159  b1192       4  1231628400\n",
       "3   a42532   b398       1  1231628400\n",
       "4   a58447   b603       1  1231628400"
      ]
     },
     "execution_count": 56,
     "metadata": {},
     "output_type": "execute_result"
    }
   ],
   "source": [
    "# Re-add # before source column name\n",
    "df.rename(columns = {'Source': '#Source'}, inplace = True)\n",
    "df.head()"
   ]
  },
  {
   "cell_type": "code",
   "execution_count": 57,
   "metadata": {},
   "outputs": [],
   "source": [
    "# Save the modified DataFrame to a new CSV file\n",
    "# Un-comment this to re-create file\n",
    "df.to_csv('data_transformed.csv', index = False, sep = ';')"
   ]
  }
 ],
 "metadata": {
  "kernelspec": {
   "display_name": "base",
   "language": "python",
   "name": "python3"
  },
  "language_info": {
   "codemirror_mode": {
    "name": "ipython",
    "version": 3
   },
   "file_extension": ".py",
   "mimetype": "text/x-python",
   "name": "python",
   "nbconvert_exporter": "python",
   "pygments_lexer": "ipython3",
   "version": "3.9.12"
  }
 },
 "nbformat": 4,
 "nbformat_minor": 2
}
