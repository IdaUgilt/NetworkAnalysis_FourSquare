{
 "cells": [
  {
   "cell_type": "code",
   "execution_count": 54,
   "metadata": {},
   "outputs": [],
   "source": [
    "import pandas as pd\n",
    "import numpy as np\n",
    "import matplotlib.pyplot as plt\n",
    "import networkx as nx\n",
    "\n",
    "import warnings\n",
    "warnings.filterwarnings('ignore')\n",
    "from scipy.spatial import distance\n",
    "from sklearn.metrics import pairwise_distances\n",
    "from scipy.sparse import csr_matrix"
   ]
  },
  {
   "cell_type": "markdown",
   "metadata": {},
   "source": [
    "### Read network"
   ]
  },
  {
   "cell_type": "code",
   "execution_count": 55,
   "metadata": {},
   "outputs": [],
   "source": [
    "# Load data\n",
    "# First column is User ID while second column is Venue ID \n",
    "G_checkin = nx.read_edgelist('NYC_restaurant_checkin/edges.csv', delimiter=\",\")"
   ]
  },
  {
   "cell_type": "code",
   "execution_count": 56,
   "metadata": {},
   "outputs": [
    {
     "data": {
      "text/plain": [
       "True"
      ]
     },
     "execution_count": 56,
     "metadata": {},
     "output_type": "execute_result"
    }
   ],
   "source": [
    "#check if it is bipartite > it is\n",
    "nx.is_bipartite(G_checkin)"
   ]
  },
  {
   "cell_type": "markdown",
   "metadata": {},
   "source": [
    "### Connected components in the network"
   ]
  },
  {
   "cell_type": "code",
   "execution_count": 57,
   "metadata": {},
   "outputs": [
    {
     "data": {
      "text/plain": [
       "[4906, 2, 2, 2, 2, 2, 2, 2, 2, 2, 2, 2, 2, 2, 2, 2]"
      ]
     },
     "execution_count": 57,
     "metadata": {},
     "output_type": "execute_result"
    }
   ],
   "source": [
    "# List connected components\n",
    "[len(c) for c in sorted(nx.connected_components(G_checkin), key=len, reverse=True)]"
   ]
  },
  {
   "cell_type": "markdown",
   "metadata": {},
   "source": [
    "We have one very large component and a few small. We choose to continue with the largest connected component."
   ]
  },
  {
   "cell_type": "code",
   "execution_count": 58,
   "metadata": {},
   "outputs": [],
   "source": [
    "largest_cc = max(nx.connected_components(G_checkin), key=len)\n",
    "G = G_checkin.subgraph(max(nx.connected_components(G_checkin), key=len)).copy()"
   ]
  },
  {
   "cell_type": "markdown",
   "metadata": {},
   "source": [
    "### Vectorized Projection"
   ]
  },
  {
   "cell_type": "code",
   "execution_count": 59,
   "metadata": {},
   "outputs": [],
   "source": [
    "# Identify the bipartite sets\n",
    "nodes = nx.algorithms.bipartite.basic.sets(G)\n",
    "userID = sorted(list(nodes[0]))\n",
    "venueID = sorted(list(nodes[1]))\n"
   ]
  },
  {
   "cell_type": "code",
   "execution_count": 60,
   "metadata": {},
   "outputs": [
    {
     "data": {
      "text/plain": [
       "2861"
      ]
     },
     "execution_count": 60,
     "metadata": {},
     "output_type": "execute_result"
    }
   ],
   "source": [
    "# We want to project along venueID\n",
    "len(venueID)"
   ]
  },
  {
   "cell_type": "code",
   "execution_count": 61,
   "metadata": {},
   "outputs": [
    {
     "data": {
      "text/plain": [
       "array([[0, 0, 0, ..., 0, 0, 0],\n",
       "       [0, 0, 0, ..., 0, 0, 0],\n",
       "       [0, 0, 0, ..., 0, 0, 0],\n",
       "       ...,\n",
       "       [0, 0, 0, ..., 0, 0, 0],\n",
       "       [0, 0, 0, ..., 0, 0, 0],\n",
       "       [0, 0, 0, ..., 0, 0, 0]])"
      ]
     },
     "execution_count": 61,
     "metadata": {},
     "output_type": "execute_result"
    }
   ],
   "source": [
    "# Non-square adjacency matrix of our biparitite network\n",
    "#entries is people, 0 not been there, 1 visited?\n",
    "adjmat = nx.algorithms.bipartite.matrix.biadjacency_matrix(G, row_order=sorted(venueID))\n",
    "adjmat.toarray()\n"
   ]
  },
  {
   "cell_type": "code",
   "execution_count": 62,
   "metadata": {},
   "outputs": [],
   "source": [
    "#calculates a matrix of pairwise cosine distances between the rows of the adjmat matrix\n",
    "#to convert distances to similarities we subtract from 1\n",
    "#cosine similarity is 1.0 when two vectors are identical and 0.0 when they are orthogonal.\n",
    "c_dist = 1.0 - pairwise_distances(adjmat, metric=\"cosine\", n_jobs=-1)\n",
    "cosine_dist = c_dist.copy()  # Create a copy of c_dist\n",
    "np.fill_diagonal(cosine_dist, 0)\n",
    "\n"
   ]
  },
  {
   "cell_type": "code",
   "execution_count": 63,
   "metadata": {},
   "outputs": [],
   "source": [
    "# We make the code from the previous question into its own function\n",
    "def simple(network, nodes):\n",
    "   T = nx.algorithms.bipartite.matrix.biadjacency_matrix(network, row_order = nodes)\n",
    "   U = T * T.T\n",
    "   U.setdiag(0)\n",
    "   U.eliminate_zeros()\n",
    "   G = nx.from_scipy_sparse_matrix(U)\n",
    "   return nx.relabel_nodes(G, {i: nodes[i] for i in range(len(nodes))})"
   ]
  },
  {
   "cell_type": "code",
   "execution_count": 64,
   "metadata": {},
   "outputs": [],
   "source": [
    "def cosine(network, nodes):\n",
    "   T = nx.algorithms.bipartite.matrix.biadjacency_matrix(network, row_order = nodes)\n",
    "   # Since this is a distance, we take the inverse to make it into a similarity.\n",
    "   # Maximum possible cosine distance is 1, so we take one minus it. If the two nodes\n",
    "   # were identical, this measure equals to 1, if they were the maximum posible far\n",
    "   # apart, this measure is zero.\n",
    "   j_dist = 1.0 - pairwise_distances(T, metric = \"cosine\", n_jobs = -1)\n",
    "   np.fill_diagonal(j_dist, 0)\n",
    "   G = nx.from_numpy_matrix(j_dist)\n",
    "   return nx.relabel_nodes(G, {i: nodes[i] for i in range(len(nodes))})\n"
   ]
  },
  {
   "cell_type": "code",
   "execution_count": 65,
   "metadata": {},
   "outputs": [
    {
     "ename": "TypeError",
     "evalue": "unhashable type: 'set'",
     "output_type": "error",
     "traceback": [
      "\u001b[0;31m---------------------------------------------------------------------------\u001b[0m",
      "\u001b[0;31mTypeError\u001b[0m                                 Traceback (most recent call last)",
      "\u001b[1;32m/Users/juliehagen/Library/CloudStorage/OneDrive-ITU/Network_analysis/NetworkAnalysis_FourSquare/vectorized_proj.ipynb Cell 16\u001b[0m line \u001b[0;36m1\n\u001b[0;32m----> <a href='vscode-notebook-cell:/Users/juliehagen/Library/CloudStorage/OneDrive-ITU/Network_analysis/NetworkAnalysis_FourSquare/vectorized_proj.ipynb#X21sZmlsZQ%3D%3D?line=0'>1</a>\u001b[0m G_cosine \u001b[39m=\u001b[39m cosine(G, nodes)\n\u001b[1;32m      <a href='vscode-notebook-cell:/Users/juliehagen/Library/CloudStorage/OneDrive-ITU/Network_analysis/NetworkAnalysis_FourSquare/vectorized_proj.ipynb#X21sZmlsZQ%3D%3D?line=1'>2</a>\u001b[0m \u001b[39mlen\u001b[39m(G_cosine\u001b[39m.\u001b[39medges)\n",
      "\u001b[1;32m/Users/juliehagen/Library/CloudStorage/OneDrive-ITU/Network_analysis/NetworkAnalysis_FourSquare/vectorized_proj.ipynb Cell 16\u001b[0m line \u001b[0;36m2\n\u001b[1;32m      <a href='vscode-notebook-cell:/Users/juliehagen/Library/CloudStorage/OneDrive-ITU/Network_analysis/NetworkAnalysis_FourSquare/vectorized_proj.ipynb#X21sZmlsZQ%3D%3D?line=0'>1</a>\u001b[0m \u001b[39mdef\u001b[39;00m \u001b[39mcosine\u001b[39m(network, nodes):\n\u001b[0;32m----> <a href='vscode-notebook-cell:/Users/juliehagen/Library/CloudStorage/OneDrive-ITU/Network_analysis/NetworkAnalysis_FourSquare/vectorized_proj.ipynb#X21sZmlsZQ%3D%3D?line=1'>2</a>\u001b[0m    T \u001b[39m=\u001b[39m nx\u001b[39m.\u001b[39;49malgorithms\u001b[39m.\u001b[39;49mbipartite\u001b[39m.\u001b[39;49mmatrix\u001b[39m.\u001b[39;49mbiadjacency_matrix(network, row_order \u001b[39m=\u001b[39;49m nodes)\n\u001b[1;32m      <a href='vscode-notebook-cell:/Users/juliehagen/Library/CloudStorage/OneDrive-ITU/Network_analysis/NetworkAnalysis_FourSquare/vectorized_proj.ipynb#X21sZmlsZQ%3D%3D?line=2'>3</a>\u001b[0m    \u001b[39m# Since this is a distance, we take the inverse to make it into a similarity.\u001b[39;00m\n\u001b[1;32m      <a href='vscode-notebook-cell:/Users/juliehagen/Library/CloudStorage/OneDrive-ITU/Network_analysis/NetworkAnalysis_FourSquare/vectorized_proj.ipynb#X21sZmlsZQ%3D%3D?line=3'>4</a>\u001b[0m    \u001b[39m# Maximum possible cosine distance is 1, so we take one minus it. If the two nodes\u001b[39;00m\n\u001b[1;32m      <a href='vscode-notebook-cell:/Users/juliehagen/Library/CloudStorage/OneDrive-ITU/Network_analysis/NetworkAnalysis_FourSquare/vectorized_proj.ipynb#X21sZmlsZQ%3D%3D?line=4'>5</a>\u001b[0m    \u001b[39m# were identical, this measure equals to 1, if they were the maximum posible far\u001b[39;00m\n\u001b[1;32m      <a href='vscode-notebook-cell:/Users/juliehagen/Library/CloudStorage/OneDrive-ITU/Network_analysis/NetworkAnalysis_FourSquare/vectorized_proj.ipynb#X21sZmlsZQ%3D%3D?line=5'>6</a>\u001b[0m    \u001b[39m# apart, this measure is zero.\u001b[39;00m\n\u001b[1;32m      <a href='vscode-notebook-cell:/Users/juliehagen/Library/CloudStorage/OneDrive-ITU/Network_analysis/NetworkAnalysis_FourSquare/vectorized_proj.ipynb#X21sZmlsZQ%3D%3D?line=6'>7</a>\u001b[0m    j_dist \u001b[39m=\u001b[39m \u001b[39m1.0\u001b[39m \u001b[39m-\u001b[39m pairwise_distances(T, metric \u001b[39m=\u001b[39m \u001b[39m\"\u001b[39m\u001b[39mcosine\u001b[39m\u001b[39m\"\u001b[39m, n_jobs \u001b[39m=\u001b[39m \u001b[39m-\u001b[39m\u001b[39m1\u001b[39m)\n",
      "File \u001b[0;32m/opt/anaconda3/envs/network/lib/python3.10/site-packages/networkx/algorithms/bipartite/matrix.py:82\u001b[0m, in \u001b[0;36mbiadjacency_matrix\u001b[0;34m(G, row_order, column_order, dtype, weight, format)\u001b[0m\n\u001b[1;32m     80\u001b[0m \u001b[39mif\u001b[39;00m nlen \u001b[39m==\u001b[39m \u001b[39m0\u001b[39m:\n\u001b[1;32m     81\u001b[0m     \u001b[39mraise\u001b[39;00m nx\u001b[39m.\u001b[39mNetworkXError(\u001b[39m\"\u001b[39m\u001b[39mrow_order is empty list\u001b[39m\u001b[39m\"\u001b[39m)\n\u001b[0;32m---> 82\u001b[0m \u001b[39mif\u001b[39;00m \u001b[39mlen\u001b[39m(row_order) \u001b[39m!=\u001b[39m \u001b[39mlen\u001b[39m(\u001b[39mset\u001b[39;49m(row_order)):\n\u001b[1;32m     83\u001b[0m     msg \u001b[39m=\u001b[39m \u001b[39m\"\u001b[39m\u001b[39mAmbiguous ordering: `row_order` contained duplicates.\u001b[39m\u001b[39m\"\u001b[39m\n\u001b[1;32m     84\u001b[0m     \u001b[39mraise\u001b[39;00m nx\u001b[39m.\u001b[39mNetworkXError(msg)\n",
      "\u001b[0;31mTypeError\u001b[0m: unhashable type: 'set'"
     ]
    }
   ],
   "source": [
    "G_cosine = cosine(G, nodes)\n",
    "len(G_cosine.edges)"
   ]
  }
 ],
 "metadata": {
  "kernelspec": {
   "display_name": "network.venv",
   "language": "python",
   "name": "python3"
  },
  "language_info": {
   "codemirror_mode": {
    "name": "ipython",
    "version": 3
   },
   "file_extension": ".py",
   "mimetype": "text/x-python",
   "name": "python",
   "nbconvert_exporter": "python",
   "pygments_lexer": "ipython3",
   "version": "3.10.0"
  }
 },
 "nbformat": 4,
 "nbformat_minor": 2
}
